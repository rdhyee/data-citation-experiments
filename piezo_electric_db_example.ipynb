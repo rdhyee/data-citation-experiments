{
 "cells": [
  {
   "cell_type": "markdown",
   "metadata": {},
   "source": [
    "# Piezoelectric textbook (LBL)\n",
    "\n",
    "[Computing A Textbook of Crystal Physics | Berkeley Lab](https://newscenter.lbl.gov/2015/09/29/computing-a-textbook-of-crystal-physics/)\n",
    "\n",
    "> Researchers at Berkeley Lab and the University of California (UC) Berkeley have developed a methodology that enabled them to compute piezoelectric constants for nearly 1,000 inorganic compounds.\n",
    "\n",
    "> “We don’t collect experimental data – but we compare calculations with reported experimental piezoelectric constants,” says Persson. “For new materials that have not been measured before, it’s up to the community to test the data – by growing a film or a single crystal – and comparing with Materials Project computations.”\n",
    "\n",
    "\"data publication\": [A database to enable discovery and design of piezoelectric materials : Scientific Data](http://www.nature.com/articles/sdata201553)\n",
    "\n",
    "doi:10.1038/sdata.2015.53\n",
    "\n",
    "-> <https://dx.doi.org/10.1038/sdata.2015.53>\n",
    "\n",
    "http://www.nature.com/articles/sdata201553\n",
    "\n",
    "http://www.nature.com/articles/sdata201553#contributions:\n",
    "\n",
    "> M.d.J. performed piezoelectric constant-calculations, developed the algorithm and the code, worked on data analysis and verification and wrote the paper. W.C. performed piezoelectric constant-calculations, developed the HT implementation and worked on data analysis and verification. H.G. contributed to the data analysis and verification. M.A. was involved in supervising and planning the work and its integration with the Materials Project effort. K.P. was involved in supervising and planning the work and its integration with the Materials Project effort.\n",
    "\n",
    "\n",
    "http://www.nature.com/articles/sdata201553#data-citations:\n",
    "\n",
    "De Jong, M., Chen, W., Geerlings, H., Asta, M., & Persson, K. Dryad http://dx.doi.org/10.5061/dryad.n63m4 (2015).\n"
   ]
  },
  {
   "cell_type": "markdown",
   "metadata": {},
   "source": [
    "http://datadryad.org/resource/doi:10.5061/dryad.n63m4  --> have to read off the URL for the file:\n",
    "\n",
    "<http://datadryad.org/bitstream/handle/10255/dryad.95403/piezo.json?sequence=1>"
   ]
  },
  {
   "cell_type": "code",
   "execution_count": 1,
   "metadata": {
    "collapsed": true
   },
   "outputs": [],
   "source": [
    "%matplotlib inline"
   ]
  },
  {
   "cell_type": "code",
   "execution_count": 2,
   "metadata": {
    "collapsed": true
   },
   "outputs": [],
   "source": [
    "from pandas import Series"
   ]
  },
  {
   "cell_type": "code",
   "execution_count": 3,
   "metadata": {
    "collapsed": true
   },
   "outputs": [],
   "source": [
    "# get the data set\n",
    "\n",
    "import requests\n",
    "\n",
    "url = \"http://datadryad.org/bitstream/handle/10255/dryad.95403/piezo.json?sequence=1\"\n",
    "r = requests.get(url)"
   ]
  },
  {
   "cell_type": "code",
   "execution_count": 4,
   "metadata": {
    "collapsed": false
   },
   "outputs": [
    {
     "data": {
      "text/plain": [
       "941"
      ]
     },
     "execution_count": 4,
     "metadata": {},
     "output_type": "execute_result"
    }
   ],
   "source": [
    "# how many records?\n",
    "# there are supposed to 941\n",
    "len(r.json())"
   ]
  },
  {
   "cell_type": "code",
   "execution_count": 5,
   "metadata": {
    "collapsed": false
   },
   "outputs": [
    {
     "data": {
      "text/plain": [
       "{u'eij_max': 0.091464,\n",
       " u'meta': {u'formula': u'AgI',\n",
       "  u'kpoint_density': 2000,\n",
       "  u'material_id': u'mp-22925',\n",
       "  u'nsites': 2,\n",
       "  u'point_group': u'-43m',\n",
       "  u'poscar': u'Ag1 I1\\n1.0\\n4.066724 0.000000 2.347924\\n1.355575 3.834144 2.347924\\n0.000000 0.000000 4.695849\\nAg I\\n1 1\\ndirect\\n0.000000 0.000000 0.000000 Ag\\n0.250000 0.250000 0.250000 I\\n',\n",
       "  u'space_group': 216,\n",
       "  u'structure': u\"#generated using pymatgen\\ndata_AgI\\n_symmetry_space_group_name_H-M   'P 1'\\n_cell_length_a   4.69584858\\n_cell_length_b   4.69584857\\n_cell_length_c   4.69584857\\n_cell_angle_alpha   59.99999994\\n_cell_angle_beta   59.99999998\\n_cell_angle_gamma   59.99999995\\n_symmetry_Int_Tables_number   1\\n_chemical_formula_structural   AgI\\n_chemical_formula_sum   'Ag1 I1'\\n_cell_volume   73.2195833241\\n_cell_formula_units_Z   1\\nloop_\\n _symmetry_equiv_pos_site_id\\n _symmetry_equiv_pos_as_xyz\\n  1  'x, y, z'\\nloop_\\n _atom_site_type_symbol\\n _atom_site_label\\n _atom_site_symmetry_multiplicity\\n _atom_site_fract_x\\n _atom_site_fract_y\\n _atom_site_fract_z\\n _atom_site_occupancy\\n  Ag  Ag1  1  0.000000  0.000000  0.000000  1\\n  I  I2  1  0.250000  0.250000  0.250000  1\\n\",\n",
       "  u'volume': 73.21958332409856},\n",
       " u'piezoelectric_tensor': [[0.0, 0.0, 0.0, -0.15842, 0.0, 0.0],\n",
       "  [0.0, 0.0, 0.0, 0.0, -0.15842, 0.0],\n",
       "  [0.0, 0.0, 0.0, 0.0, 0.0, -0.15842]],\n",
       " u'v_max': [1.0, 1.0, 1.0]}"
      ]
     },
     "execution_count": 5,
     "metadata": {},
     "output_type": "execute_result"
    }
   ],
   "source": [
    "# look at one data element\n",
    "r.json()[0]"
   ]
  },
  {
   "cell_type": "code",
   "execution_count": 6,
   "metadata": {
    "collapsed": true
   },
   "outputs": [],
   "source": [
    "r0 = r.json()[0]"
   ]
  },
  {
   "cell_type": "code",
   "execution_count": 7,
   "metadata": {
    "collapsed": true
   },
   "outputs": [],
   "source": [
    "rows = r.json()"
   ]
  },
  {
   "cell_type": "code",
   "execution_count": 8,
   "metadata": {
    "collapsed": false
   },
   "outputs": [],
   "source": [
    "s = Series([row.get('eij_max') for row in rows])"
   ]
  },
  {
   "cell_type": "markdown",
   "metadata": {},
   "source": [
    "# Figure 6\n",
    "\n",
    "Can we reproduce Figure 6?:\n",
    "\n",
    "![Figure 6](http://www.nature.com/article-assets/npg/sdata/2015/sdata201553/images_hires/m685/sdata201553-f6.jpg)"
   ]
  },
  {
   "cell_type": "code",
   "execution_count": 9,
   "metadata": {
    "collapsed": false
   },
   "outputs": [
    {
     "data": {
      "text/plain": [
       "Counter({u'-4': 62,\n",
       "         u'-42m': 105,\n",
       "         u'-43m': 131,\n",
       "         u'-6m2': 37,\n",
       "         u'1': 56,\n",
       "         u'2': 63,\n",
       "         u'222': 28,\n",
       "         u'23': 11,\n",
       "         u'3': 17,\n",
       "         u'32': 43,\n",
       "         u'3m': 99,\n",
       "         u'4': 4,\n",
       "         u'4mm': 37,\n",
       "         u'6': 3,\n",
       "         u'6mm': 55,\n",
       "         u'm': 12,\n",
       "         u'mm2': 178})"
      ]
     },
     "execution_count": 9,
     "metadata": {},
     "output_type": "execute_result"
    }
   ],
   "source": [
    "from collections import Counter\n",
    "\n",
    "# distribution of point groups\n",
    "\n",
    "Counter([row['meta']['point_group'] for row in rows])"
   ]
  },
  {
   "cell_type": "code",
   "execution_count": 10,
   "metadata": {
    "collapsed": false
   },
   "outputs": [
    {
     "data": {
      "text/plain": [
       "<matplotlib.axes._subplots.AxesSubplot at 0x10a3b6bd0>"
      ]
     },
     "execution_count": 10,
     "metadata": {},
     "output_type": "execute_result"
    },
    {
     "data": {
      "image/png": "[encoded data removed]",
      "text/plain": [
       "<matplotlib.figure.Figure at 0x10a3b6ed0>"
      ]
     },
     "metadata": {},
     "output_type": "display_data"
    }
   ],
   "source": [
    "# look at histography of eij_max > 2\n",
    "s[s < 2].hist(bins=30)"
   ]
  },
  {
   "cell_type": "markdown",
   "metadata": {},
   "source": [
    "# Figure 7\n",
    "\n",
    "I ran into problems trying to reproduce Figure 7:\n",
    "\n",
    "![Figure 7](http://www.nature.com/article-assets/npg/sdata/2015/sdata201553/images_hires/m685/sdata201553-f7.jpg)\n",
    "\n",
    "I wrote the author:\n",
    "\n",
    "> I'm interested in reproducing Figure 7 of the paper.  I downloaded the dataset (http://datadryad.org/resource/doi:10.5061/dryad.n63m4) but could not find the experimental values for eij_max for the 36 systems represented in Fig 7.  Could you tell me how to find those values along with the corresponding material_id?  Thanks! \n"
   ]
  },
  {
   "cell_type": "markdown",
   "metadata": {},
   "source": [
    "# Zebras (UC Davis)\n",
    "\n",
    "[Why zebras have stripes: The debate goes on :: UC Davis News & Information](http://news.ucdavis.edu/search/news_detail.lasso?id=11310)\n",
    "\n",
    "links to the \"full commentary\" at http://bit.ly/1RioXQv  -> http://rsos.royalsocietypublishing.org/content/royopensci/2/9/150323.full.pdf?ijkey=CXqtqKxzDzMXW02&keytype=ref\n",
    "\n",
    "better link is use DOI: `10.1098/rsos.150323` --> e.g., dx.doi.org/10.1098/rsos.150323 -> dx.doi.org/10.1098/rsos.150323  (pdf: http://rsos.royalsocietypublishing.org/content/2/9/150323.full-text.pdf)\n"
   ]
  }
 ],
 "metadata": {
  "kernelspec": {
   "display_name": "Python 2",
   "language": "python",
   "name": "python2"
  },
  "language_info": {
   "codemirror_mode": {
    "name": "ipython",
    "version": 2
   },
   "file_extension": ".py",
   "mimetype": "text/x-python",
   "name": "python",
   "nbconvert_exporter": "python",
   "pygments_lexer": "ipython2",
   "version": "2.7.11"
  }
 },
 "nbformat": 4,
 "nbformat_minor": 0
}
